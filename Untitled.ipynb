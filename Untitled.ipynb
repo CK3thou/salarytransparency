{
 "cells": [
  {
   "cell_type": "code",
   "execution_count": null,
   "id": "91e12c15-def5-49e1-9814-d5ac48596e34",
   "metadata": {},
   "outputs": [],
   "source": []
  }
 ],
 "metadata": {
  "kernelspec": {
   "display_name": "",
   "name": ""
  },
  "language_info": {
   "name": ""
  }
 },
 "nbformat": 4,
 "nbformat_minor": 5
}
